{
 "cells": [
  {
   "cell_type": "markdown",
   "metadata": {},
   "source": [
    "Практический блок, рассчитайте метрики для когорты 8-14.01.2021:\n",
    "*\tcost\n",
    "*\tinstalls \n",
    "*\tbuyers 3 - плательщики 3-го дня когорты\n",
    "*\tbuyers\n",
    "*\tCPM\n",
    "*\tIPM\n",
    "*\tCPI\n",
    "*\tARPU_7\n",
    "*\tARPPU_7\n",
    "*\tARPU\n",
    "*\tcost per buyer 1,3,5,7,14 - цена за плательщика на указанный день когорты\n",
    "*\tROAS 1,3,5,7,14,30 - фактическая окупаемость на указанный день когорты\n",
    "\n",
    "Удобно просмотреть ответы можно в самом конце ноутбука"
   ]
  },
  {
   "cell_type": "code",
   "execution_count": 388,
   "metadata": {},
   "outputs": [],
   "source": [
    "import pandas as pd\n",
    "import numpy as np\n",
    "import datetime\n",
    "import matplotlib.pyplot as plt\n",
    "import seaborn as sns\n",
    "\n",
    "pd.set_option('display.max_rows', 100)"
   ]
  },
  {
   "cell_type": "code",
   "execution_count": 389,
   "metadata": {
    "scrolled": true
   },
   "outputs": [],
   "source": [
    "ads_data = pd.read_csv('C:/Users/glebk/Desktop/ads_data.csv', parse_dates=['date'])\n",
    "user_data = pd.read_csv('C:/Users/glebk/Desktop/user_data.csv', \n",
    "                        parse_dates=['attributed_touch_time','install_time', 'event_time'])\n",
    "                                     \n",
    "\n",
    "user_data[['campaign_id', 'ad_set_id', 'ad_id']] = user_data[['campaign_id', 'adset_id', 'ad_id']].fillna(0).astype('int64')\n",
    "user_data.drop(labels='adset_id', axis=1, inplace=True)"
   ]
  },
  {
   "cell_type": "code",
   "execution_count": 390,
   "metadata": {},
   "outputs": [
    {
     "data": {
      "text/plain": [
       "1220046"
      ]
     },
     "execution_count": 390,
     "metadata": {},
     "output_type": "execute_result"
    }
   ],
   "source": [
    "user_data.user_id.nunique()"
   ]
  },
  {
   "cell_type": "code",
   "execution_count": 391,
   "metadata": {},
   "outputs": [
    {
     "data": {
      "text/plain": [
       "attributed_touch_time     831801\n",
       "install_time                   0\n",
       "event_time                     0\n",
       "event_name                     0\n",
       "event_revenue_usd        1006874\n",
       "media_source              831801\n",
       "channel                   831801\n",
       "campaign_id                    0\n",
       "ad_id                          0\n",
       "country_code              102593\n",
       "user_id                        0\n",
       "ad_set_id                      0\n",
       "dtype: int64"
      ]
     },
     "execution_count": 391,
     "metadata": {},
     "output_type": "execute_result"
    }
   ],
   "source": [
    "# Посмотрим NA values в данных о пользователях\n",
    "user_data.isna().sum()"
   ]
  },
  {
   "cell_type": "code",
   "execution_count": 392,
   "metadata": {},
   "outputs": [
    {
     "data": {
      "image/png": "[encoded data removed]",
      "text/plain": [
       "<Figure size 432x288 with 1 Axes>"
      ]
     },
     "metadata": {
      "needs_background": "light"
     },
     "output_type": "display_data"
    }
   ],
   "source": [
    "# Посмотрим на распределение событий по дате установки\n",
    "# Чтобы понимать активность пользователей, зарегистрировавшихся в определенные дни\n",
    "user_data[\"install_time\"].dt.date.value_counts().sort_index().plot(kind='bar')\n",
    "plt.title('Количество событий пользователей, зарегистрировавшихся в указанный день.')\n",
    "plt.show()"
   ]
  },
  {
   "cell_type": "code",
   "execution_count": 393,
   "metadata": {},
   "outputs": [
    {
     "data": {
      "text/plain": [
       "(424476, 12)"
      ]
     },
     "execution_count": 393,
     "metadata": {},
     "output_type": "execute_result"
    }
   ],
   "source": [
    "# В install_time нет NA, или странных install_times. Сделаем по ней когорту\n",
    "cohort_start = datetime.date(2021, 1, 8)\n",
    "cohort_end = datetime.date(2021, 1, 14)\n",
    "\n",
    "cohort_mask = (user_data.install_time.dt.date <= cohort_end) & (user_data.install_time.dt.date >= cohort_start)\n",
    "user_cohort = user_data[cohort_mask].copy()\n",
    "\n",
    "user_cohort.shape"
   ]
  },
  {
   "cell_type": "code",
   "execution_count": 394,
   "metadata": {},
   "outputs": [
    {
     "data": {
      "text/plain": [
       "attributed_touch_time    193195\n",
       "install_time                  0\n",
       "event_time                    0\n",
       "event_name                    0\n",
       "event_revenue_usd        258618\n",
       "media_source             193195\n",
       "channel                  193195\n",
       "campaign_id                   0\n",
       "ad_id                         0\n",
       "country_code              25530\n",
       "user_id                       0\n",
       "ad_set_id                     0\n",
       "dtype: int64"
      ]
     },
     "execution_count": 394,
     "metadata": {},
     "output_type": "execute_result"
    }
   ],
   "source": [
    "# Посмотрим NA values в когорте\n",
    "\n",
    "user_cohort.isna().sum()"
   ]
  },
  {
   "cell_type": "code",
   "execution_count": 395,
   "metadata": {},
   "outputs": [
    {
     "name": "stdout",
     "output_type": "stream",
     "text": [
      "Количество инсталлов: 310351\n",
      "Уникальные пользователи: 310285\n",
      "Есть маленькое количество дублирующихся пользователей\n"
     ]
    },
    {
     "data": {
      "image/png": "[encoded data removed]",
      "text/plain": [
       "<Figure size 432x288 with 1 Axes>"
      ]
     },
     "metadata": {
      "needs_background": "light"
     },
     "output_type": "display_data"
    }
   ],
   "source": [
    "registration_events = user_cohort[user_cohort['event_name'].isin(['install', 'reinstall'])]\n",
    "installs = registration_events.shape[0]\n",
    "unique_users_count = registration_events.user_id.nunique()\n",
    "\n",
    "print(f'Количество инсталлов: {installs}')\n",
    "print(f'Уникальные пользователи: {unique_users_count}')\n",
    "print(f'Есть маленькое количество дублирующихся пользователей')\n",
    "\n",
    "# Посмотрим на распределение новых пользователей по дням когорты:\n",
    "registration_events[\"install_time\"].dt.date.value_counts().sort_index().plot(kind='bar')\n",
    "plt.title('Количество регистраций по дням')\n",
    "plt.show()"
   ]
  },
  {
   "cell_type": "code",
   "execution_count": 396,
   "metadata": {},
   "outputs": [
    {
     "name": "stdout",
     "output_type": "stream",
     "text": [
      "Уникальных пар install_time+user_id: 328333\n",
      "Уникальных user_id в этих парах: 310939\n",
      "Процент записей, относящихся к пользователям с неизменным install_time: 0.9470232964703518\n"
     ]
    }
   ],
   "source": [
    "# Посмотрим,есть ли пользователи попавшие в данные с разным install time\n",
    "unique_checker = user_cohort[['install_time', 'user_id']].drop_duplicates()\n",
    "print(f'Уникальных пар install_time+user_id: {unique_checker.shape[0]}')\n",
    "print(f'Уникальных user_id в этих парах: {unique_checker.user_id.nunique()}')\n",
    "print(f'Процент записей, относящихся к пользователям с неизменным install_time: {unique_checker.user_id.nunique() / unique_checker.shape[0]}')\n",
    "\n",
    "# Такие пользователи есть. Возможно, это пользователи, которые скачали приложение, удалили и поставили назад. \n",
    "# Необходимо изучать. Это может привести к занижению показателей при подсчете метрик на день после регистрации, ROAS 3, например."
   ]
  },
  {
   "cell_type": "code",
   "execution_count": 397,
   "metadata": {},
   "outputs": [
    {
     "name": "stdout",
     "output_type": "stream",
     "text": [
      "0.000000      74026\n",
      "0.861978          1\n",
      "0.892499          2\n",
      "0.892532          1\n",
      "0.892662          1\n",
      "              ...  \n",
      "138.992758        1\n",
      "199.990000        2\n",
      "202.240602        1\n",
      "205.433531        1\n",
      "243.923167        1\n",
      "Name: event_revenue_usd, Length: 38675, dtype: int64\n"
     ]
    },
    {
     "data": {
      "image/png": "[encoded data removed]",
      "text/plain": [
       "<Figure size 432x288 with 1 Axes>"
      ]
     },
     "metadata": {
      "needs_background": "light"
     },
     "output_type": "display_data"
    },
    {
     "data": {
      "text/plain": [
       "af_purchase     90826\n",
       "af_subscribe     1006\n",
       "Name: event_name, dtype: int64"
      ]
     },
     "execution_count": 397,
     "metadata": {},
     "output_type": "execute_result"
    }
   ],
   "source": [
    "# Посмотрим на распределение покупок в приложении\n",
    "print(user_cohort.event_revenue_usd.value_counts().sort_index())\n",
    "\n",
    "sns.boxplot(user_cohort.event_revenue_usd)\n",
    "plt.show()\n",
    "\n",
    "# В отсутствие контекста, все потенциальные аутлаеры могут иметь смысл.\n",
    "\n",
    "# Посмотрим, какие события имеют revenue.\n",
    "user_cohort[user_cohort['event_revenue_usd'] > 0].event_name.value_counts()\n",
    "\n",
    "# Это только события af_purchase и af_subscribe. Имеет смысл."
   ]
  },
  {
   "cell_type": "code",
   "execution_count": 398,
   "metadata": {},
   "outputs": [
    {
     "name": "stdout",
     "output_type": "stream",
     "text": [
      "Количество плательщиков: 12022\n",
      "Доля плательщиков: 3.87%\n"
     ]
    }
   ],
   "source": [
    "# Посчитаем долю покупателей\n",
    "buyers = user_cohort[user_cohort['event_revenue_usd'] > 0].user_id.nunique()\n",
    "buyers_share = buyers*100/installs\n",
    "\n",
    "print(f'Количество плательщиков: {buyers}')\n",
    "print(f'Доля плательщиков: {buyers_share:.2f}%')"
   ]
  },
  {
   "cell_type": "code",
   "execution_count": 399,
   "metadata": {},
   "outputs": [
    {
     "name": "stdout",
     "output_type": "stream",
     "text": [
      "Количество плательщиков 3 дня: 6194\n",
      "Доля плательщиков 3 дня: 2.00%\n"
     ]
    }
   ],
   "source": [
    "# Посчитаем плательщиков третьего дня.\n",
    "# Мои допущения: \n",
    "# 1) Считаю плательщиков за все три дня, а не на третий день\n",
    "# 2) Считаю 72 часа после регистрации, а не календарные дни.\n",
    "buyers_arr = []\n",
    "for i in [1, 3, 5, 7, 14]:\n",
    "    mask = (user_cohort['event_time'] - user_cohort['install_time'] < pd.Timedelta(f\"{i} days\")) & \\\n",
    "            (user_cohort['event_revenue_usd'] > 0)\n",
    "\n",
    "    buyers_arr.append(user_cohort[mask].user_id.nunique())\n",
    "    \n",
    "buyers_3_share = buyers_arr[1]*100/installs\n",
    "\n",
    "print(f'Количество плательщиков 3 дня: {buyers_arr[1]}')\n",
    "print(f'Доля плательщиков 3 дня: {buyers_3_share:.2f}%')"
   ]
  },
  {
   "cell_type": "code",
   "execution_count": 400,
   "metadata": {},
   "outputs": [
    {
     "name": "stdout",
     "output_type": "stream",
     "text": [
      "ARPU: 3.47\n",
      "ARPPU: 89.46\n"
     ]
    }
   ],
   "source": [
    "# Посчитаем ARPU и ARPPU\n",
    "revenue = user_cohort.event_revenue_usd.sum()\n",
    "arpu =  revenue / unique_users_count\n",
    "arppu = revenue / buyers\n",
    "print(f'ARPU: {arpu:.2f}')\n",
    "print(f'ARPPU: {arppu:.2f}')"
   ]
  },
  {
   "cell_type": "code",
   "execution_count": 401,
   "metadata": {},
   "outputs": [
    {
     "name": "stdout",
     "output_type": "stream",
     "text": [
      "ARPU_7: 0.80\n",
      "ARPPU_7: 20.75\n"
     ]
    }
   ],
   "source": [
    "# Посчитаем ARPU_7 и ARPPU_7.\n",
    "mask = user_cohort['event_time'] - user_cohort['install_time'] < pd.Timedelta(\"7 days\")\n",
    "revenue_7 = user_cohort[mask].event_revenue_usd.sum()\n",
    "\n",
    "arpu_7 =  revenue_7 / unique_users_count\n",
    "arppu_7 = revenue_7 / buyers\n",
    "print(f'ARPU_7: {arpu_7:.2f}')\n",
    "print(f'ARPPU_7: {arppu_7:.2f}')"
   ]
  },
  {
   "cell_type": "code",
   "execution_count": 402,
   "metadata": {},
   "outputs": [
    {
     "name": "stdout",
     "output_type": "stream",
     "text": [
      "Сочетаний кампания-пользователей в когорте: 311009\n",
      "Уникальные пользователи в когорте: 310285\n",
      "Всего пересечений между двумя таблицами: 78331\n",
      "Доля пересечений от всех сочетаний кампания-пользователь в когорте: 25.19%\n",
      "Уникальных пользователей в пересечении: 78331\n"
     ]
    }
   ],
   "source": [
    "# Перейдем к расчету метрик, требующих объединения данных.\n",
    "# Определим, для какого количества пользователей когорты есть данные о их привлечении в приложение.\n",
    "\n",
    "user_data_sliced = user_cohort[['campaign_id', 'ad_set_id', 'ad_id', 'user_id']].drop_duplicates()\n",
    "ads_data_sliced = ads_data[['campaign_id', 'ad_set_id', 'ad_id']].drop_duplicates()\n",
    "\n",
    "merged = pd.merge(user_data_sliced, ads_data_sliced, on=['campaign_id', 'ad_set_id', 'ad_id'], how='left', indicator='Exist')\n",
    "\n",
    "merged['Exist'] = np.where(merged.Exist == 'both', True, False)\n",
    "intersect = merged['Exist'].sum()\n",
    "users_share =  intersect * 100 / merged.shape[0]\n",
    "\n",
    "unique_users_in_intersect = merged[merged['Exist']]['user_id'].nunique()\n",
    "\n",
    "print(f'Сочетаний кампания-пользователей в когорте: {merged.shape[0]}')\n",
    "print(f'Уникальные пользователи в когорте: {unique_users_count}')\n",
    "print(f'Всего пересечений между двумя таблицами: {intersect}')\n",
    "print(f'Доля пересечений от всех сочетаний кампания-пользователь в когорте: {users_share:.2f}%')\n",
    "print(f'Уникальных пользователей в пересечении: {unique_users_in_intersect}')\n",
    "\n",
    "# У нас больше сочетаний кампания-пользователь, чем уникальных пользователей в когорте. Это интересное поле исследования.\n",
    "# Для примерно 75% процентов пользователей нет информации о привлечении. Будем считать метрики для тех, по кому есть данные."
   ]
  },
  {
   "cell_type": "markdown",
   "metadata": {},
   "source": [
    "Посмотрев данные, возникает вопрос, как именно посчитать cost для нашей когорты. \n",
    "Под cost я понимаю потраченные на привлечения пользователя деньги.\n",
    "\n",
    "Мои предположения:\n",
    " - чтобы получить cost на когорту, нужно посчитать cost, затраченный на проведение кампаний, приведших пользователей.\n",
    " - чтобы определить кампанию, приведшую пользователя, я буду использовать следующую информацию о пользователе: attributed_touch_time, страну пользователя и (campaign_id, ad_set_id, ad_id)\n",
    " - она должна матчится с соответствующей информацией о кампаниях: дата, страна(breakdowns) и (campaign_id, ad_set_id, ad_id)\n",
    " - также, в когорте есть часть пользователей без информации о кампании, предположительно органический траффик. Я не буду браь их в рассчет при подсчете CPI, ROAS и т.д."
   ]
  },
  {
   "cell_type": "code",
   "execution_count": 403,
   "metadata": {},
   "outputs": [],
   "source": [
    "# Посмотрим на кампании в данных о пользователях\n",
    "user_data_camps_unique = user_cohort[['campaign_id', 'ad_set_id', 'ad_id', 'country_code']].copy()\n",
    "user_data_camps_unique['date'] = user_cohort['attributed_touch_time'].dt.normalize().dt.tz_localize(None)\n",
    "user_data_camps_unique = user_data_camps_unique.drop(user_data_camps_unique[user_data_camps_unique.campaign_id == 0].index)\n",
    "#user_data_camps_unique['date'] = user_data_camps_unique['date'].dt.normalize\n",
    "user_data_camps_unique.drop_duplicates(inplace=True)"
   ]
  },
  {
   "cell_type": "code",
   "execution_count": 404,
   "metadata": {},
   "outputs": [
    {
     "data": {
      "text/html": [
       "<div>\n",
       "<style scoped>\n",
       "    .dataframe tbody tr th:only-of-type {\n",
       "        vertical-align: middle;\n",
       "    }\n",
       "\n",
       "    .dataframe tbody tr th {\n",
       "        vertical-align: top;\n",
       "    }\n",
       "\n",
       "    .dataframe thead th {\n",
       "        text-align: right;\n",
       "    }\n",
       "</style>\n",
       "<table border=\"1\" class=\"dataframe\">\n",
       "  <thead>\n",
       "    <tr style=\"text-align: right;\">\n",
       "      <th></th>\n",
       "      <th>campaign_id</th>\n",
       "      <th>ad_set_id</th>\n",
       "      <th>ad_id</th>\n",
       "      <th>country_code</th>\n",
       "      <th>date</th>\n",
       "    </tr>\n",
       "  </thead>\n",
       "  <tbody>\n",
       "    <tr>\n",
       "      <th>0</th>\n",
       "      <td>23847157133130369</td>\n",
       "      <td>23847157133120369</td>\n",
       "      <td>23847157133270369</td>\n",
       "      <td>UK</td>\n",
       "      <td>2021-01-01</td>\n",
       "    </tr>\n",
       "    <tr>\n",
       "      <th>1</th>\n",
       "      <td>23847157133170369</td>\n",
       "      <td>23847157133180369</td>\n",
       "      <td>23847157133260369</td>\n",
       "      <td>UK</td>\n",
       "      <td>2021-01-01</td>\n",
       "    </tr>\n",
       "    <tr>\n",
       "      <th>2</th>\n",
       "      <td>23847157133130369</td>\n",
       "      <td>23847157133120369</td>\n",
       "      <td>23847157133250369</td>\n",
       "      <td>UK</td>\n",
       "      <td>2021-01-01</td>\n",
       "    </tr>\n",
       "    <tr>\n",
       "      <th>3</th>\n",
       "      <td>23847157133130369</td>\n",
       "      <td>23847157133120369</td>\n",
       "      <td>23847157133240369</td>\n",
       "      <td>UK</td>\n",
       "      <td>2021-01-01</td>\n",
       "    </tr>\n",
       "    <tr>\n",
       "      <th>4</th>\n",
       "      <td>23847157133130369</td>\n",
       "      <td>23847157133120369</td>\n",
       "      <td>23847157133230369</td>\n",
       "      <td>UK</td>\n",
       "      <td>2021-01-01</td>\n",
       "    </tr>\n",
       "    <tr>\n",
       "      <th>...</th>\n",
       "      <td>...</td>\n",
       "      <td>...</td>\n",
       "      <td>...</td>\n",
       "      <td>...</td>\n",
       "      <td>...</td>\n",
       "    </tr>\n",
       "    <tr>\n",
       "      <th>704809</th>\n",
       "      <td>23846826271770262</td>\n",
       "      <td>23846826271780262</td>\n",
       "      <td>23846827057460262</td>\n",
       "      <td>PT</td>\n",
       "      <td>2021-01-31</td>\n",
       "    </tr>\n",
       "    <tr>\n",
       "      <th>704810</th>\n",
       "      <td>23846826271770262</td>\n",
       "      <td>23846826271780262</td>\n",
       "      <td>23846827057460262</td>\n",
       "      <td>PL</td>\n",
       "      <td>2021-01-31</td>\n",
       "    </tr>\n",
       "    <tr>\n",
       "      <th>704811</th>\n",
       "      <td>23846826271770262</td>\n",
       "      <td>23846826271780262</td>\n",
       "      <td>23846827057460262</td>\n",
       "      <td>PH</td>\n",
       "      <td>2021-01-31</td>\n",
       "    </tr>\n",
       "    <tr>\n",
       "      <th>704812</th>\n",
       "      <td>23846826271770262</td>\n",
       "      <td>23846826271780262</td>\n",
       "      <td>23846827057460262</td>\n",
       "      <td>PE</td>\n",
       "      <td>2021-01-31</td>\n",
       "    </tr>\n",
       "    <tr>\n",
       "      <th>704813</th>\n",
       "      <td>23846826271770262</td>\n",
       "      <td>23846826271780262</td>\n",
       "      <td>23846827057460262</td>\n",
       "      <td>PY</td>\n",
       "      <td>2021-01-31</td>\n",
       "    </tr>\n",
       "  </tbody>\n",
       "</table>\n",
       "<p>704814 rows × 5 columns</p>\n",
       "</div>"
      ],
      "text/plain": [
       "              campaign_id          ad_set_id              ad_id country_code  \\\n",
       "0       23847157133130369  23847157133120369  23847157133270369           UK   \n",
       "1       23847157133170369  23847157133180369  23847157133260369           UK   \n",
       "2       23847157133130369  23847157133120369  23847157133250369           UK   \n",
       "3       23847157133130369  23847157133120369  23847157133240369           UK   \n",
       "4       23847157133130369  23847157133120369  23847157133230369           UK   \n",
       "...                   ...                ...                ...          ...   \n",
       "704809  23846826271770262  23846826271780262  23846827057460262           PT   \n",
       "704810  23846826271770262  23846826271780262  23846827057460262           PL   \n",
       "704811  23846826271770262  23846826271780262  23846827057460262           PH   \n",
       "704812  23846826271770262  23846826271780262  23846827057460262           PE   \n",
       "704813  23846826271770262  23846826271780262  23846827057460262           PY   \n",
       "\n",
       "             date  \n",
       "0      2021-01-01  \n",
       "1      2021-01-01  \n",
       "2      2021-01-01  \n",
       "3      2021-01-01  \n",
       "4      2021-01-01  \n",
       "...           ...  \n",
       "704809 2021-01-31  \n",
       "704810 2021-01-31  \n",
       "704811 2021-01-31  \n",
       "704812 2021-01-31  \n",
       "704813 2021-01-31  \n",
       "\n",
       "[704814 rows x 5 columns]"
      ]
     },
     "execution_count": 404,
     "metadata": {},
     "output_type": "execute_result"
    }
   ],
   "source": [
    "# Преобразуем сами кампании и посмотрим на них\n",
    "ads_data['country_code'] = ads_data['breakdowns'].str.split('\"').str.get(3)\n",
    "ads_data[['campaign_id', 'ad_set_id', 'ad_id', 'country_code', 'date']]"
   ]
  },
  {
   "cell_type": "code",
   "execution_count": 405,
   "metadata": {},
   "outputs": [
    {
     "name": "stdout",
     "output_type": "stream",
     "text": [
      "Всего кампаний в пользователях: 27951\n",
      "Всего кампаний в пользователях с данными: 2652\n"
     ]
    },
    {
     "data": {
      "text/html": [
       "<div>\n",
       "<style scoped>\n",
       "    .dataframe tbody tr th:only-of-type {\n",
       "        vertical-align: middle;\n",
       "    }\n",
       "\n",
       "    .dataframe tbody tr th {\n",
       "        vertical-align: top;\n",
       "    }\n",
       "\n",
       "    .dataframe thead th {\n",
       "        text-align: right;\n",
       "    }\n",
       "</style>\n",
       "<table border=\"1\" class=\"dataframe\">\n",
       "  <thead>\n",
       "    <tr style=\"text-align: right;\">\n",
       "      <th></th>\n",
       "      <th>campaign_id</th>\n",
       "      <th>ad_set_id</th>\n",
       "      <th>ad_id</th>\n",
       "      <th>country_code</th>\n",
       "      <th>date</th>\n",
       "      <th>cpm</th>\n",
       "      <th>ctr</th>\n",
       "      <th>spend</th>\n",
       "      <th>clicks</th>\n",
       "      <th>impressions</th>\n",
       "      <th>breakdown_set</th>\n",
       "      <th>breakdowns</th>\n",
       "      <th>platform</th>\n",
       "      <th>Exist</th>\n",
       "    </tr>\n",
       "  </thead>\n",
       "  <tbody>\n",
       "    <tr>\n",
       "      <th>0</th>\n",
       "      <td>23846486995950520</td>\n",
       "      <td>23846486995930520</td>\n",
       "      <td>23846486995940520</td>\n",
       "      <td>BA</td>\n",
       "      <td>2021-01-08</td>\n",
       "      <td>1.157094</td>\n",
       "      <td>0.920325</td>\n",
       "      <td>57.960000</td>\n",
       "      <td>461.0</td>\n",
       "      <td>50091.0</td>\n",
       "      <td>{country}</td>\n",
       "      <td>{\"country\": \"BA\"}</td>\n",
       "      <td>android</td>\n",
       "      <td>True</td>\n",
       "    </tr>\n",
       "    <tr>\n",
       "      <th>2</th>\n",
       "      <td>23846433475350520</td>\n",
       "      <td>23846433475340520</td>\n",
       "      <td>23846433475330520</td>\n",
       "      <td>SA</td>\n",
       "      <td>2021-01-07</td>\n",
       "      <td>0.983284</td>\n",
       "      <td>0.870239</td>\n",
       "      <td>27.908553</td>\n",
       "      <td>247.0</td>\n",
       "      <td>28383.0</td>\n",
       "      <td>{country}</td>\n",
       "      <td>{\"country\": \"SA\"}</td>\n",
       "      <td>android</td>\n",
       "      <td>True</td>\n",
       "    </tr>\n",
       "    <tr>\n",
       "      <th>3</th>\n",
       "      <td>23846486995950520</td>\n",
       "      <td>23846486995930520</td>\n",
       "      <td>23846486995940520</td>\n",
       "      <td>PK</td>\n",
       "      <td>2021-01-08</td>\n",
       "      <td>1.059563</td>\n",
       "      <td>2.430828</td>\n",
       "      <td>105.310000</td>\n",
       "      <td>2416.0</td>\n",
       "      <td>99390.0</td>\n",
       "      <td>{country}</td>\n",
       "      <td>{\"country\": \"PK\"}</td>\n",
       "      <td>android</td>\n",
       "      <td>True</td>\n",
       "    </tr>\n",
       "    <tr>\n",
       "      <th>6</th>\n",
       "      <td>23846513000250520</td>\n",
       "      <td>23846513000260520</td>\n",
       "      <td>23846513000270520</td>\n",
       "      <td>PL</td>\n",
       "      <td>2021-01-07</td>\n",
       "      <td>2.915551</td>\n",
       "      <td>0.901398</td>\n",
       "      <td>206.036130</td>\n",
       "      <td>637.0</td>\n",
       "      <td>70668.0</td>\n",
       "      <td>{country}</td>\n",
       "      <td>{\"country\": \"PL\"}</td>\n",
       "      <td>android</td>\n",
       "      <td>True</td>\n",
       "    </tr>\n",
       "    <tr>\n",
       "      <th>9</th>\n",
       "      <td>23846486995950520</td>\n",
       "      <td>23846486995930520</td>\n",
       "      <td>23846486995940520</td>\n",
       "      <td>RS</td>\n",
       "      <td>2021-01-08</td>\n",
       "      <td>2.356222</td>\n",
       "      <td>0.956789</td>\n",
       "      <td>181.250000</td>\n",
       "      <td>736.0</td>\n",
       "      <td>76924.0</td>\n",
       "      <td>{country}</td>\n",
       "      <td>{\"country\": \"RS\"}</td>\n",
       "      <td>android</td>\n",
       "      <td>True</td>\n",
       "    </tr>\n",
       "    <tr>\n",
       "      <th>...</th>\n",
       "      <td>...</td>\n",
       "      <td>...</td>\n",
       "      <td>...</td>\n",
       "      <td>...</td>\n",
       "      <td>...</td>\n",
       "      <td>...</td>\n",
       "      <td>...</td>\n",
       "      <td>...</td>\n",
       "      <td>...</td>\n",
       "      <td>...</td>\n",
       "      <td>...</td>\n",
       "      <td>...</td>\n",
       "      <td>...</td>\n",
       "      <td>...</td>\n",
       "    </tr>\n",
       "    <tr>\n",
       "      <th>27884</th>\n",
       "      <td>23846513005790520</td>\n",
       "      <td>23846513005800520</td>\n",
       "      <td>23846513005810520</td>\n",
       "      <td>SE</td>\n",
       "      <td>2021-01-08</td>\n",
       "      <td>16.882911</td>\n",
       "      <td>1.265823</td>\n",
       "      <td>10.670000</td>\n",
       "      <td>8.0</td>\n",
       "      <td>632.0</td>\n",
       "      <td>{country}</td>\n",
       "      <td>{\"country\": \"SE\"}</td>\n",
       "      <td>ios</td>\n",
       "      <td>True</td>\n",
       "    </tr>\n",
       "    <tr>\n",
       "      <th>27886</th>\n",
       "      <td>23846487100790520</td>\n",
       "      <td>23846487100780520</td>\n",
       "      <td>23846487100770520</td>\n",
       "      <td>GN</td>\n",
       "      <td>2021-01-08</td>\n",
       "      <td>0.893855</td>\n",
       "      <td>1.117318</td>\n",
       "      <td>0.320000</td>\n",
       "      <td>4.0</td>\n",
       "      <td>358.0</td>\n",
       "      <td>{country}</td>\n",
       "      <td>{\"country\": \"GN\"}</td>\n",
       "      <td>ios</td>\n",
       "      <td>True</td>\n",
       "    </tr>\n",
       "    <tr>\n",
       "      <th>27888</th>\n",
       "      <td>23846486995950520</td>\n",
       "      <td>23846486995930520</td>\n",
       "      <td>23846486995940520</td>\n",
       "      <td>NI</td>\n",
       "      <td>2021-01-07</td>\n",
       "      <td>1.196319</td>\n",
       "      <td>0.746062</td>\n",
       "      <td>4.329477</td>\n",
       "      <td>27.0</td>\n",
       "      <td>3619.0</td>\n",
       "      <td>{country}</td>\n",
       "      <td>{\"country\": \"NI\"}</td>\n",
       "      <td>android</td>\n",
       "      <td>True</td>\n",
       "    </tr>\n",
       "    <tr>\n",
       "      <th>27918</th>\n",
       "      <td>23846487100790520</td>\n",
       "      <td>23846487100780520</td>\n",
       "      <td>23846487100770520</td>\n",
       "      <td>TG</td>\n",
       "      <td>2021-01-11</td>\n",
       "      <td>1.403509</td>\n",
       "      <td>1.754386</td>\n",
       "      <td>0.080000</td>\n",
       "      <td>1.0</td>\n",
       "      <td>57.0</td>\n",
       "      <td>{country}</td>\n",
       "      <td>{\"country\": \"TG\"}</td>\n",
       "      <td>ios</td>\n",
       "      <td>True</td>\n",
       "    </tr>\n",
       "    <tr>\n",
       "      <th>27924</th>\n",
       "      <td>23846433090270520</td>\n",
       "      <td>23846433090350520</td>\n",
       "      <td>23846433090520520</td>\n",
       "      <td>NL</td>\n",
       "      <td>2021-01-02</td>\n",
       "      <td>5.872286</td>\n",
       "      <td>0.874913</td>\n",
       "      <td>67.789665</td>\n",
       "      <td>101.0</td>\n",
       "      <td>11544.0</td>\n",
       "      <td>{country}</td>\n",
       "      <td>{\"country\": \"NL\"}</td>\n",
       "      <td>ios</td>\n",
       "      <td>True</td>\n",
       "    </tr>\n",
       "  </tbody>\n",
       "</table>\n",
       "<p>2652 rows × 14 columns</p>\n",
       "</div>"
      ],
      "text/plain": [
       "             campaign_id          ad_set_id              ad_id country_code  \\\n",
       "0      23846486995950520  23846486995930520  23846486995940520           BA   \n",
       "2      23846433475350520  23846433475340520  23846433475330520           SA   \n",
       "3      23846486995950520  23846486995930520  23846486995940520           PK   \n",
       "6      23846513000250520  23846513000260520  23846513000270520           PL   \n",
       "9      23846486995950520  23846486995930520  23846486995940520           RS   \n",
       "...                  ...                ...                ...          ...   \n",
       "27884  23846513005790520  23846513005800520  23846513005810520           SE   \n",
       "27886  23846487100790520  23846487100780520  23846487100770520           GN   \n",
       "27888  23846486995950520  23846486995930520  23846486995940520           NI   \n",
       "27918  23846487100790520  23846487100780520  23846487100770520           TG   \n",
       "27924  23846433090270520  23846433090350520  23846433090520520           NL   \n",
       "\n",
       "            date        cpm       ctr       spend  clicks  impressions  \\\n",
       "0     2021-01-08   1.157094  0.920325   57.960000   461.0      50091.0   \n",
       "2     2021-01-07   0.983284  0.870239   27.908553   247.0      28383.0   \n",
       "3     2021-01-08   1.059563  2.430828  105.310000  2416.0      99390.0   \n",
       "6     2021-01-07   2.915551  0.901398  206.036130   637.0      70668.0   \n",
       "9     2021-01-08   2.356222  0.956789  181.250000   736.0      76924.0   \n",
       "...          ...        ...       ...         ...     ...          ...   \n",
       "27884 2021-01-08  16.882911  1.265823   10.670000     8.0        632.0   \n",
       "27886 2021-01-08   0.893855  1.117318    0.320000     4.0        358.0   \n",
       "27888 2021-01-07   1.196319  0.746062    4.329477    27.0       3619.0   \n",
       "27918 2021-01-11   1.403509  1.754386    0.080000     1.0         57.0   \n",
       "27924 2021-01-02   5.872286  0.874913   67.789665   101.0      11544.0   \n",
       "\n",
       "      breakdown_set         breakdowns platform  Exist  \n",
       "0         {country}  {\"country\": \"BA\"}  android   True  \n",
       "2         {country}  {\"country\": \"SA\"}  android   True  \n",
       "3         {country}  {\"country\": \"PK\"}  android   True  \n",
       "6         {country}  {\"country\": \"PL\"}  android   True  \n",
       "9         {country}  {\"country\": \"RS\"}  android   True  \n",
       "...             ...                ...      ...    ...  \n",
       "27884     {country}  {\"country\": \"SE\"}      ios   True  \n",
       "27886     {country}  {\"country\": \"GN\"}      ios   True  \n",
       "27888     {country}  {\"country\": \"NI\"}  android   True  \n",
       "27918     {country}  {\"country\": \"TG\"}      ios   True  \n",
       "27924     {country}  {\"country\": \"NL\"}      ios   True  \n",
       "\n",
       "[2652 rows x 14 columns]"
      ]
     },
     "execution_count": 405,
     "metadata": {},
     "output_type": "execute_result"
    }
   ],
   "source": [
    "# Посмотрим, на сколько кампаний у нас есть данные\n",
    "merged = pd.merge(user_data_camps_unique, ads_data, \n",
    "                  on=['campaign_id', 'ad_set_id', 'ad_id', 'country_code', 'date'], \n",
    "                  how='left', \n",
    "                  indicator='Exist')\n",
    "merged['Exist'] = np.where(merged.Exist == 'both', True, False)\n",
    "total_camps_with_data = merged['Exist'].sum()\n",
    "print(f'Всего кампаний в пользователях: {merged.shape[0]}')\n",
    "print(f'Всего кампаний в пользователях с данными: {total_camps_with_data}')\n",
    "\n",
    "camps_with_data = merged[merged['Exist']]\n",
    "camps_with_data"
   ]
  },
  {
   "cell_type": "code",
   "execution_count": 406,
   "metadata": {},
   "outputs": [
    {
     "name": "stdout",
     "output_type": "stream",
     "text": [
      "Cost: 262211.76\n",
      "Показов: 70464499.0\n",
      "CPM: 3.72\n"
     ]
    }
   ],
   "source": [
    "# Перейдем, к расчету метрик.\n",
    "# Cost это общяя сумма, потраченная на компании, по которым есть информация\n",
    "\n",
    "cost = merged['spend'].sum()\n",
    "print(f'Cost: {cost:.2f}')\n",
    "\n",
    "impressions = merged['impressions'].sum()\n",
    "print(f'Показов: {impressions}')\n",
    "\n",
    "# CPM это стоимость тясычи показов.\n",
    "cpm = cost * 1000 / impressions\n",
    "print(f'CPM: {cpm:.2f}')"
   ]
  },
  {
   "cell_type": "code",
   "execution_count": 407,
   "metadata": {},
   "outputs": [
    {
     "name": "stdout",
     "output_type": "stream",
     "text": [
      "Installs с данными: 76685\n",
      "CPI с данными: 0.8449\n",
      "IPM с данными: 0.0044\n"
     ]
    }
   ],
   "source": [
    "#Чтобы высчитать CPI, нужно поделить cost на установки. Но нужны те установки, по которым есть данные о привлечении\n",
    "\n",
    "user_cohort['date'] = user_cohort['attributed_touch_time'].dt.normalize().dt.tz_localize(None)\n",
    "registration_events = user_cohort[user_cohort['event_name'].isin(['install', 'reinstall'])]\n",
    "\n",
    "merged_installs = pd.merge(registration_events, camps_with_data.drop('Exist', axis=1),\n",
    "         on=['campaign_id', 'ad_set_id', 'ad_id', 'country_code', 'date'],\n",
    "         how='left', \n",
    "         indicator='Exist' \n",
    ")\n",
    "merged_installs['Exist'] = np.where(merged_installs.Exist == 'both', True, False)\n",
    "\n",
    "merged_installs[merged_installs['Exist']]\n",
    "installs_winfo = merged_installs[merged_installs['Exist']].user_id.nunique()\n",
    "print(f'Installs с данными: {installs_winfo}')\n",
    "print(f'CPI с данными: {cost/installs:.4f}')\n",
    "print(f'IPM с данными: {installs/impressions:.4f}')"
   ]
  },
  {
   "cell_type": "code",
   "execution_count": 408,
   "metadata": {},
   "outputs": [
    {
     "data": {
      "image/png": "[encoded data removed]",
      "text/plain": [
       "<Figure size 432x288 with 1 Axes>"
      ]
     },
     "metadata": {
      "needs_background": "light"
     },
     "output_type": "display_data"
    }
   ],
   "source": [
    "#Cost per buyer это cost деленный на количество buyers в определенный день после установки.\n",
    "\n",
    "merged_events = pd.merge(user_cohort, camps_with_data.drop('Exist', axis=1),\n",
    "         on=['campaign_id', 'ad_set_id', 'ad_id', 'country_code', 'date'],\n",
    "         how='left', \n",
    "         indicator='Exist' \n",
    ")\n",
    "merged_events['Exist'] = np.where(merged_events.Exist == 'both', True, False)\n",
    "\n",
    "buyers_arr_winfo = []\n",
    "days = [1, 3, 5, 7, 14]\n",
    "for i in days:\n",
    "    mask = (merged_events['event_time'] - merged_events['install_time'] < pd.Timedelta(f\"{i} days\")) & \\\n",
    "            (merged_events['event_revenue_usd'] > 0)\n",
    "\n",
    "    buyers_arr_winfo.append(merged_events[mask].user_id.nunique())\n",
    "\n",
    "merged_events[merged_events['Exist']]\n",
    "\n",
    "sns.lineplot(x = days, y = cost/buyers_arr_winfo)\n",
    "plt.xlabel('Дни')\n",
    "plt.ylabel('Cost per Buyers $')\n",
    "plt.title('Cost per buyers по дням с момента установки')\n",
    "plt.grid()\n",
    "plt.show()"
   ]
  },
  {
   "cell_type": "code",
   "execution_count": 409,
   "metadata": {},
   "outputs": [
    {
     "data": {
      "image/png": "[encoded data removed]",
      "text/plain": [
       "<Figure size 432x288 with 1 Axes>"
      ]
     },
     "metadata": {
      "needs_background": "light"
     },
     "output_type": "display_data"
    }
   ],
   "source": [
    "#ROAS это потраченные на привлечение средства - полученные от пользователей средства\n",
    "revenue_arr = []\n",
    "for i in days:\n",
    "    mask = (merged_events['event_time'] - merged_events['install_time'] < pd.Timedelta(f\"{i} days\")) & \\\n",
    "            (merged_events['event_revenue_usd'] > 0)\n",
    "\n",
    "    revenue_arr.append(merged_events[mask].event_revenue_usd.sum())\n",
    "\n",
    "revenue_arr\n",
    "sns.lineplot(x = days, y = revenue_arr - cost)\n",
    "plt.xlabel('Дни')\n",
    "plt.ylabel('ROAS $')\n",
    "plt.title('ROAS по дням с момента установки')\n",
    "plt.grid()\n",
    "plt.show()"
   ]
  },
  {
   "cell_type": "markdown",
   "metadata": {},
   "source": [
    "* Сost*: 262211.76$\n",
    "\n",
    "* Installs: 310285\n",
    "\n",
    "* Installs*: 76685\n",
    "\n",
    "* Buyers 3: 7289\n",
    "\n",
    "* Buyers 3*: 6194\n",
    "\n",
    "* Buyers: 12022\n",
    "\n",
    "* CPM*: 3.72\n",
    "\n",
    "* IPM*: 0.0044\n",
    "\n",
    "* CPI*: 0.8449\n",
    "\n",
    "* ARPU_7: 0.80$\n",
    "\n",
    "* ARPPU_7: 20.75$\n",
    "\n",
    "* ARPU: 3.47$\n",
    "\n",
    "Cost per buyer и ROAS:\n",
    "\n",
    "|  | День 1 | День 3 | День 5 | День 7 | День 14 |\n",
    "| --- | --- | --- | --- | --- | --- |\n",
    "| Cost per buyer | 55.02 | 42.33 | 35.97 | 32.76 | 27.65 |\n",
    "| ROAS | -196059 | -12288 | -68060 | -12739 | 140029 |\n",
    "\n",
    "Cost per buyer и ROAS на графиках выше.\n",
    "\n",
    "(*) Означает, что данные посчитаны только для пользователей с информацией о их привлечении"
   ]
  },
  {
   "cell_type": "code",
   "execution_count": null,
   "metadata": {},
   "outputs": [],
   "source": []
  }
 ],
 "metadata": {
  "kernelspec": {
   "display_name": "Python 3",
   "language": "python",
   "name": "python3"
  },
  "language_info": {
   "codemirror_mode": {
    "name": "ipython",
    "version": 3
   },
   "file_extension": ".py",
   "mimetype": "text/x-python",
   "name": "python",
   "nbconvert_exporter": "python",
   "pygments_lexer": "ipython3",
   "version": "3.8.3"
  }
 },
 "nbformat": 4,
 "nbformat_minor": 4
}
